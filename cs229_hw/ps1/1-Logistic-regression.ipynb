{
 "cells": [
  {
   "cell_type": "code",
   "execution_count": 49,
   "metadata": {},
   "outputs": [],
   "source": [
    "import numpy as np\n",
    "import pandas as pd\n",
    "import matplotlib.pyplot as plt\n",
    "\n",
    "%matplotlib inline"
   ]
  },
  {
   "cell_type": "code",
   "execution_count": 56,
   "metadata": {},
   "outputs": [],
   "source": [
    "df_X = pd.read_csv('./data/logistic_x.txt', sep='\\ +', header=None, engine='python')\n",
    "y = pd.read_csv('./data/logistic_y.txt', sep='\\ +', header=None, engine='python')\n",
    "y = y.astype(int)"
   ]
  },
  {
   "cell_type": "code",
   "execution_count": 57,
   "metadata": {},
   "outputs": [
    {
     "data": {
      "text/html": [
       "<div>\n",
       "<style scoped>\n",
       "    .dataframe tbody tr th:only-of-type {\n",
       "        vertical-align: middle;\n",
       "    }\n",
       "\n",
       "    .dataframe tbody tr th {\n",
       "        vertical-align: top;\n",
       "    }\n",
       "\n",
       "    .dataframe thead th {\n",
       "        text-align: right;\n",
       "    }\n",
       "</style>\n",
       "<table border=\"1\" class=\"dataframe\">\n",
       "  <thead>\n",
       "    <tr style=\"text-align: right;\">\n",
       "      <th></th>\n",
       "      <th>0</th>\n",
       "      <th>1</th>\n",
       "      <th>label</th>\n",
       "    </tr>\n",
       "  </thead>\n",
       "  <tbody>\n",
       "    <tr>\n",
       "      <th>0</th>\n",
       "      <td>1.343250</td>\n",
       "      <td>-1.331148</td>\n",
       "      <td>-1</td>\n",
       "    </tr>\n",
       "    <tr>\n",
       "      <th>1</th>\n",
       "      <td>1.820553</td>\n",
       "      <td>-0.634668</td>\n",
       "      <td>-1</td>\n",
       "    </tr>\n",
       "    <tr>\n",
       "      <th>2</th>\n",
       "      <td>0.986321</td>\n",
       "      <td>-1.888576</td>\n",
       "      <td>-1</td>\n",
       "    </tr>\n",
       "    <tr>\n",
       "      <th>3</th>\n",
       "      <td>1.944373</td>\n",
       "      <td>-1.635452</td>\n",
       "      <td>-1</td>\n",
       "    </tr>\n",
       "    <tr>\n",
       "      <th>4</th>\n",
       "      <td>0.976734</td>\n",
       "      <td>-1.353315</td>\n",
       "      <td>-1</td>\n",
       "    </tr>\n",
       "    <tr>\n",
       "      <th>...</th>\n",
       "      <td>...</td>\n",
       "      <td>...</td>\n",
       "      <td>...</td>\n",
       "    </tr>\n",
       "    <tr>\n",
       "      <th>94</th>\n",
       "      <td>4.774854</td>\n",
       "      <td>0.099415</td>\n",
       "      <td>1</td>\n",
       "    </tr>\n",
       "    <tr>\n",
       "      <th>95</th>\n",
       "      <td>5.827485</td>\n",
       "      <td>-0.690058</td>\n",
       "      <td>1</td>\n",
       "    </tr>\n",
       "    <tr>\n",
       "      <th>96</th>\n",
       "      <td>2.289474</td>\n",
       "      <td>1.970760</td>\n",
       "      <td>1</td>\n",
       "    </tr>\n",
       "    <tr>\n",
       "      <th>97</th>\n",
       "      <td>2.494152</td>\n",
       "      <td>1.415205</td>\n",
       "      <td>1</td>\n",
       "    </tr>\n",
       "    <tr>\n",
       "      <th>98</th>\n",
       "      <td>2.084795</td>\n",
       "      <td>1.356725</td>\n",
       "      <td>1</td>\n",
       "    </tr>\n",
       "  </tbody>\n",
       "</table>\n",
       "<p>99 rows × 3 columns</p>\n",
       "</div>"
      ],
      "text/plain": [
       "           0         1  label\n",
       "0   1.343250 -1.331148     -1\n",
       "1   1.820553 -0.634668     -1\n",
       "2   0.986321 -1.888576     -1\n",
       "3   1.944373 -1.635452     -1\n",
       "4   0.976734 -1.353315     -1\n",
       "..       ...       ...    ...\n",
       "94  4.774854  0.099415      1\n",
       "95  5.827485 -0.690058      1\n",
       "96  2.289474  1.970760      1\n",
       "97  2.494152  1.415205      1\n",
       "98  2.084795  1.356725      1\n",
       "\n",
       "[99 rows x 3 columns]"
      ]
     },
     "execution_count": 57,
     "metadata": {},
     "output_type": "execute_result"
    }
   ],
   "source": [
    "df_X['label'] = y[0].values\n",
    "df_X"
   ]
  },
  {
   "cell_type": "code",
   "execution_count": 58,
   "metadata": {},
   "outputs": [
    {
     "data": {
      "image/png": "[encoded data removed]",
      "text/plain": [
       "<Figure size 432x288 with 1 Axes>"
      ]
     },
     "metadata": {
      "needs_background": "light"
     },
     "output_type": "display_data"
    }
   ],
   "source": [
    "ax = plt.axes()\n",
    "\n",
    "pos = df_X[df_X.label == 1].iloc[:,[0,1]].plot.scatter(x=0,y=1,ax=ax, color='blue')\n",
    "neg = df_X[df_X.label == -1].iloc[:,[0,1]].plot.scatter(x=0,y=1,ax=ax, color='red')\n",
    "\n",
    "#use query\n",
    "#pos = df_X.query('label == 1').plot.scatter(x=0,y=1,ax=ax, color='blue)"
   ]
  },
  {
   "cell_type": "code",
   "execution_count": 59,
   "metadata": {},
   "outputs": [
    {
     "data": {
      "text/plain": [
       "array([[ 1.3432504 , -1.3311479 ],\n",
       "       [ 1.8205529 , -0.6346681 ],\n",
       "       [ 0.98632067, -1.8885762 ],\n",
       "       [ 1.9443734 , -1.635452  ],\n",
       "       [ 0.97673352, -1.3533151 ],\n",
       "       [ 1.9458584 , -2.0443278 ],\n",
       "       [ 2.1075153 , -2.1256684 ],\n",
       "       [ 2.070373  , -2.4634101 ],\n",
       "       [ 0.86864964, -2.4119348 ],\n",
       "       [ 1.8006594 , -2.7739689 ],\n",
       "       [ 3.1283787 , -3.4452432 ],\n",
       "       [ 3.0947429 , -3.6446145 ],\n",
       "       [ 2.9086652 , -4.0065037 ],\n",
       "       [ 2.6770338 , -3.0198592 ],\n",
       "       [ 2.7458671 , -2.7100561 ],\n",
       "       [ 4.1714647 , -3.4622482 ],\n",
       "       [ 3.931322  , -2.1099044 ],\n",
       "       [ 4.378687  , -2.3804743 ],\n",
       "       [ 4.8016565 , -3.3803344 ],\n",
       "       [ 4.166105  , -2.8138844 ],\n",
       "       [ 2.4670141 , -1.6108444 ],\n",
       "       [ 3.4826743 , -1.5533872 ],\n",
       "       [ 3.3652482 , -1.8164936 ],\n",
       "       [ 2.8772788 , -1.8511689 ],\n",
       "       [ 3.1090444 , -1.6384946 ],\n",
       "       [ 2.2183701 ,  0.07427956],\n",
       "       [ 1.9949873 ,  0.16268659],\n",
       "       [ 2.9500308 ,  0.01687302],\n",
       "       [ 2.0216009 ,  0.17227387],\n",
       "       [ 2.0486921 , -0.63581041],\n",
       "       [ 0.87548563, -0.54586168],\n",
       "       [ 0.57079941, -0.03327866],\n",
       "       [ 1.4266468 , -0.75288337],\n",
       "       [ 0.72265633, -0.8669193 ],\n",
       "       [ 0.95346198, -1.4896956 ],\n",
       "       [ 4.8333333 ,  0.07017544],\n",
       "       [ 4.3070175 ,  1.4152047 ],\n",
       "       [ 6.0321637 ,  0.4502924 ],\n",
       "       [ 5.4181287 , -2.7076023 ],\n",
       "       [ 3.4590643 , -2.8245614 ],\n",
       "       [ 2.7280702 , -0.92397661],\n",
       "       [ 1.002924  ,  0.77192982],\n",
       "       [ 3.6637427 , -0.77777778],\n",
       "       [ 4.3070175 , -1.0409357 ],\n",
       "       [ 3.6929825 , -0.10526316],\n",
       "       [ 5.7397661 , -1.625731  ],\n",
       "       [ 4.9795322 , -1.5087719 ],\n",
       "       [ 6.5       , -2.9122807 ],\n",
       "       [ 5.2426901 ,  0.91812865],\n",
       "       [ 1.6754386 ,  0.56725146],\n",
       "       [ 5.1708997 ,  1.2103667 ],\n",
       "       [ 4.8795188 ,  1.6081848 ],\n",
       "       [ 4.664987  ,  1.0695532 ],\n",
       "       [ 4.4934321 ,  1.2351592 ],\n",
       "       [ 4.1512967 ,  0.8672126 ],\n",
       "       [ 3.717708  ,  1.15172   ],\n",
       "       [ 3.6224477 ,  1.3106769 ],\n",
       "       [ 3.0606943 ,  1.4857163 ],\n",
       "       [ 7.0718465 , -0.34961651],\n",
       "       [ 6.0391832 , -0.24756832],\n",
       "       [ 6.674748  , -0.12484766],\n",
       "       [ 6.8461291 ,  0.25977167],\n",
       "       [ 6.4270724 , -0.14713863],\n",
       "       [ 6.8456065 ,  1.4754967 ],\n",
       "       [ 7.7054006 ,  1.6045555 ],\n",
       "       [ 6.2870658 ,  2.4156427 ],\n",
       "       [ 6.9810956 ,  1.2599865 ],\n",
       "       [ 7.0990172 ,  2.2155151 ],\n",
       "       [ 5.5275479 ,  0.29968421],\n",
       "       [ 5.8303489 , -0.21974408],\n",
       "       [ 6.3594527 ,  0.23944217],\n",
       "       [ 6.1004524 , -0.04095741],\n",
       "       [ 5.6237412 ,  0.37135914],\n",
       "       [ 5.8836969 ,  2.7768186 ],\n",
       "       [ 5.5781611 ,  3.0682889 ],\n",
       "       [ 7.0050662 , -0.25781727],\n",
       "       [ 4.4538114 ,  0.83941831],\n",
       "       [ 5.6495924 ,  1.3053929 ],\n",
       "       [ 4.6337489 ,  1.9467546 ],\n",
       "       [ 3.6986847 ,  2.2594084 ],\n",
       "       [ 4.1193005 ,  2.547451  ],\n",
       "       [ 4.7665558 ,  2.7531209 ],\n",
       "       [ 3.0812098 ,  2.7985255 ],\n",
       "       [ 4.0730994 , -3.0292398 ],\n",
       "       [ 3.4883041 , -1.8888889 ],\n",
       "       [ 0.76900585,  1.2105263 ],\n",
       "       [ 1.5       ,  3.8128655 ],\n",
       "       [ 5.7982456 , -2.0935673 ],\n",
       "       [ 6.8114529 , -0.8345673 ],\n",
       "       [ 7.1106096 , -1.0201158 ],\n",
       "       [ 7.494152  , -1.7426901 ],\n",
       "       [ 3.1374269 ,  0.42105263],\n",
       "       [ 1.6754386 ,  0.50877193],\n",
       "       [ 2.494152  , -0.86549708],\n",
       "       [ 4.7748538 ,  0.09941521],\n",
       "       [ 5.8274854 , -0.69005848],\n",
       "       [ 2.2894737 ,  1.9707602 ],\n",
       "       [ 2.494152  ,  1.4152047 ],\n",
       "       [ 2.0847953 ,  1.3567251 ]])"
      ]
     },
     "execution_count": 59,
     "metadata": {},
     "output_type": "execute_result"
    }
   ],
   "source": [
    "X = df_X[[0,1]].values\n",
    "X"
   ]
  },
  {
   "cell_type": "code",
   "execution_count": 60,
   "metadata": {},
   "outputs": [
    {
     "data": {
      "text/plain": [
       "array([-1, -1, -1, -1, -1, -1, -1, -1, -1, -1, -1, -1, -1, -1, -1, -1, -1,\n",
       "       -1, -1, -1, -1, -1, -1, -1, -1, -1, -1, -1, -1, -1, -1, -1, -1, -1,\n",
       "       -1, -1, -1, -1, -1, -1, -1, -1, -1, -1, -1, -1, -1, -1, -1, -1,  1,\n",
       "        1,  1,  1,  1,  1,  1,  1,  1,  1,  1,  1,  1,  1,  1,  1,  1,  1,\n",
       "        1,  1,  1,  1,  1,  1,  1,  1,  1,  1,  1,  1,  1,  1,  1,  1,  1,\n",
       "        1,  1,  1,  1,  1,  1,  1,  1,  1,  1,  1,  1,  1,  1])"
      ]
     },
     "execution_count": 60,
     "metadata": {},
     "output_type": "execute_result"
    }
   ],
   "source": [
    "# add a columns of ones for the intercept terms\n",
    "X = np.hstack([np.ones((X.shape[0],1)), X])\n",
    "y = df_X['label'].values\n",
    "y"
   ]
  },
  {
   "cell_type": "code",
   "execution_count": 61,
   "metadata": {},
   "outputs": [
    {
     "data": {
      "text/plain": [
       "array([[ 1.        ,  1.3432504 , -1.3311479 ],\n",
       "       [ 1.        ,  1.8205529 , -0.6346681 ],\n",
       "       [ 1.        ,  0.98632067, -1.8885762 ],\n",
       "       [ 1.        ,  1.9443734 , -1.635452  ],\n",
       "       [ 1.        ,  0.97673352, -1.3533151 ],\n",
       "       [ 1.        ,  1.9458584 , -2.0443278 ],\n",
       "       [ 1.        ,  2.1075153 , -2.1256684 ],\n",
       "       [ 1.        ,  2.070373  , -2.4634101 ],\n",
       "       [ 1.        ,  0.86864964, -2.4119348 ],\n",
       "       [ 1.        ,  1.8006594 , -2.7739689 ],\n",
       "       [ 1.        ,  3.1283787 , -3.4452432 ],\n",
       "       [ 1.        ,  3.0947429 , -3.6446145 ],\n",
       "       [ 1.        ,  2.9086652 , -4.0065037 ],\n",
       "       [ 1.        ,  2.6770338 , -3.0198592 ],\n",
       "       [ 1.        ,  2.7458671 , -2.7100561 ],\n",
       "       [ 1.        ,  4.1714647 , -3.4622482 ],\n",
       "       [ 1.        ,  3.931322  , -2.1099044 ],\n",
       "       [ 1.        ,  4.378687  , -2.3804743 ],\n",
       "       [ 1.        ,  4.8016565 , -3.3803344 ],\n",
       "       [ 1.        ,  4.166105  , -2.8138844 ],\n",
       "       [ 1.        ,  2.4670141 , -1.6108444 ],\n",
       "       [ 1.        ,  3.4826743 , -1.5533872 ],\n",
       "       [ 1.        ,  3.3652482 , -1.8164936 ],\n",
       "       [ 1.        ,  2.8772788 , -1.8511689 ],\n",
       "       [ 1.        ,  3.1090444 , -1.6384946 ],\n",
       "       [ 1.        ,  2.2183701 ,  0.07427956],\n",
       "       [ 1.        ,  1.9949873 ,  0.16268659],\n",
       "       [ 1.        ,  2.9500308 ,  0.01687302],\n",
       "       [ 1.        ,  2.0216009 ,  0.17227387],\n",
       "       [ 1.        ,  2.0486921 , -0.63581041],\n",
       "       [ 1.        ,  0.87548563, -0.54586168],\n",
       "       [ 1.        ,  0.57079941, -0.03327866],\n",
       "       [ 1.        ,  1.4266468 , -0.75288337],\n",
       "       [ 1.        ,  0.72265633, -0.8669193 ],\n",
       "       [ 1.        ,  0.95346198, -1.4896956 ],\n",
       "       [ 1.        ,  4.8333333 ,  0.07017544],\n",
       "       [ 1.        ,  4.3070175 ,  1.4152047 ],\n",
       "       [ 1.        ,  6.0321637 ,  0.4502924 ],\n",
       "       [ 1.        ,  5.4181287 , -2.7076023 ],\n",
       "       [ 1.        ,  3.4590643 , -2.8245614 ],\n",
       "       [ 1.        ,  2.7280702 , -0.92397661],\n",
       "       [ 1.        ,  1.002924  ,  0.77192982],\n",
       "       [ 1.        ,  3.6637427 , -0.77777778],\n",
       "       [ 1.        ,  4.3070175 , -1.0409357 ],\n",
       "       [ 1.        ,  3.6929825 , -0.10526316],\n",
       "       [ 1.        ,  5.7397661 , -1.625731  ],\n",
       "       [ 1.        ,  4.9795322 , -1.5087719 ],\n",
       "       [ 1.        ,  6.5       , -2.9122807 ],\n",
       "       [ 1.        ,  5.2426901 ,  0.91812865],\n",
       "       [ 1.        ,  1.6754386 ,  0.56725146],\n",
       "       [ 1.        ,  5.1708997 ,  1.2103667 ],\n",
       "       [ 1.        ,  4.8795188 ,  1.6081848 ],\n",
       "       [ 1.        ,  4.664987  ,  1.0695532 ],\n",
       "       [ 1.        ,  4.4934321 ,  1.2351592 ],\n",
       "       [ 1.        ,  4.1512967 ,  0.8672126 ],\n",
       "       [ 1.        ,  3.717708  ,  1.15172   ],\n",
       "       [ 1.        ,  3.6224477 ,  1.3106769 ],\n",
       "       [ 1.        ,  3.0606943 ,  1.4857163 ],\n",
       "       [ 1.        ,  7.0718465 , -0.34961651],\n",
       "       [ 1.        ,  6.0391832 , -0.24756832],\n",
       "       [ 1.        ,  6.674748  , -0.12484766],\n",
       "       [ 1.        ,  6.8461291 ,  0.25977167],\n",
       "       [ 1.        ,  6.4270724 , -0.14713863],\n",
       "       [ 1.        ,  6.8456065 ,  1.4754967 ],\n",
       "       [ 1.        ,  7.7054006 ,  1.6045555 ],\n",
       "       [ 1.        ,  6.2870658 ,  2.4156427 ],\n",
       "       [ 1.        ,  6.9810956 ,  1.2599865 ],\n",
       "       [ 1.        ,  7.0990172 ,  2.2155151 ],\n",
       "       [ 1.        ,  5.5275479 ,  0.29968421],\n",
       "       [ 1.        ,  5.8303489 , -0.21974408],\n",
       "       [ 1.        ,  6.3594527 ,  0.23944217],\n",
       "       [ 1.        ,  6.1004524 , -0.04095741],\n",
       "       [ 1.        ,  5.6237412 ,  0.37135914],\n",
       "       [ 1.        ,  5.8836969 ,  2.7768186 ],\n",
       "       [ 1.        ,  5.5781611 ,  3.0682889 ],\n",
       "       [ 1.        ,  7.0050662 , -0.25781727],\n",
       "       [ 1.        ,  4.4538114 ,  0.83941831],\n",
       "       [ 1.        ,  5.6495924 ,  1.3053929 ],\n",
       "       [ 1.        ,  4.6337489 ,  1.9467546 ],\n",
       "       [ 1.        ,  3.6986847 ,  2.2594084 ],\n",
       "       [ 1.        ,  4.1193005 ,  2.547451  ],\n",
       "       [ 1.        ,  4.7665558 ,  2.7531209 ],\n",
       "       [ 1.        ,  3.0812098 ,  2.7985255 ],\n",
       "       [ 1.        ,  4.0730994 , -3.0292398 ],\n",
       "       [ 1.        ,  3.4883041 , -1.8888889 ],\n",
       "       [ 1.        ,  0.76900585,  1.2105263 ],\n",
       "       [ 1.        ,  1.5       ,  3.8128655 ],\n",
       "       [ 1.        ,  5.7982456 , -2.0935673 ],\n",
       "       [ 1.        ,  6.8114529 , -0.8345673 ],\n",
       "       [ 1.        ,  7.1106096 , -1.0201158 ],\n",
       "       [ 1.        ,  7.494152  , -1.7426901 ],\n",
       "       [ 1.        ,  3.1374269 ,  0.42105263],\n",
       "       [ 1.        ,  1.6754386 ,  0.50877193],\n",
       "       [ 1.        ,  2.494152  , -0.86549708],\n",
       "       [ 1.        ,  4.7748538 ,  0.09941521],\n",
       "       [ 1.        ,  5.8274854 , -0.69005848],\n",
       "       [ 1.        ,  2.2894737 ,  1.9707602 ],\n",
       "       [ 1.        ,  2.494152  ,  1.4152047 ],\n",
       "       [ 1.        ,  2.0847953 ,  1.3567251 ]])"
      ]
     },
     "execution_count": 61,
     "metadata": {},
     "output_type": "execute_result"
    }
   ],
   "source": [
    "X"
   ]
  },
  {
   "cell_type": "code",
   "execution_count": 75,
   "metadata": {},
   "outputs": [
    {
     "name": "stdout",
     "output_type": "stream",
     "text": [
      "converged after 7 iterations.\n"
     ]
    }
   ],
   "source": [
    "all_theta = []\n",
    "theta = np.zeros(X.shape[1])\n",
    "tol = 1e9\n",
    "n_iters = 0\n",
    "while tol > 1e-6:\n",
    "    z = y * X.dot(theta)\n",
    "    gz = 1 / (1 + np.exp(-z))\n",
    "    dJ_dtheta = np.mean((gz-1)*y*X.T, axis=1)\n",
    "    \n",
    "    hessian = np.zeros((X.shape[1],X.shape[1]))\n",
    "    l_hessian = X.shape[1]\n",
    "    for i in range(l_hessian):\n",
    "        for j in range(l_hessian):\n",
    "            hessian[i][j] = np.mean(gz * (1 - gz) * X[:,i] * X[:,j])\n",
    "            if i != j:\n",
    "                hessian[j][i] = hessian[i][j]\n",
    "    delta = np.linalg.inv(hessian).dot(dJ_dtheta)\n",
    "    old_theta = theta.copy()\n",
    "    theta = theta - delta\n",
    "    all_theta.append(theta.copy())\n",
    "    n_iters += 1\n",
    "    tol = np.sum(np.abs(theta - old_theta))\n",
    "print('converged after {0} iterations.'.format(n_iters))\n",
    "            \n"
   ]
  },
  {
   "cell_type": "code",
   "execution_count": 76,
   "metadata": {},
   "outputs": [
    {
     "data": {
      "text/plain": [
       "array([[ 0.10009798,  0.3882034 , -0.02594128],\n",
       "       [ 0.3882034 ,  1.84012054, -0.17424752],\n",
       "       [-0.02594128, -0.17424752,  0.18496572]])"
      ]
     },
     "execution_count": 76,
     "metadata": {},
     "output_type": "execute_result"
    }
   ],
   "source": [
    "hessian"
   ]
  },
  {
   "cell_type": "code",
   "execution_count": 82,
   "metadata": {},
   "outputs": [
    {
     "name": "stdout",
     "output_type": "stream",
     "text": [
      "[-0.16204825468406303, -0.06282559996709491, -0.009930157568840192, -0.00026544107915449366, -2.3291219330978663e-07, -2.2359891715950653e-13]\n"
     ]
    }
   ],
   "source": [
    "a = np.sum(all_theta, axis=1)\n",
    "c_theta = []\n",
    "for i in range(len(a)-1):\n",
    "    c_theta.append(a[i+1]-a[i])\n",
    "print(c_theta)"
   ]
  },
  {
   "cell_type": "code",
   "execution_count": 85,
   "metadata": {},
   "outputs": [
    {
     "data": {
      "text/plain": [
       "[<matplotlib.lines.Line2D at 0x1642c26a0>]"
      ]
     },
     "execution_count": 85,
     "metadata": {},
     "output_type": "execute_result"
    },
    {
     "data": {
      "image/png": "[encoded data removed]",
      "text/plain": [
       "<Figure size 432x288 with 1 Axes>"
      ]
     },
     "metadata": {
      "needs_background": "light"
     },
     "output_type": "display_data"
    }
   ],
   "source": [
    "plt.plot(np.array(c_theta))"
   ]
  },
  {
   "cell_type": "code",
   "execution_count": 89,
   "metadata": {},
   "outputs": [
    {
     "data": {
      "text/plain": [
       "<matplotlib.legend.Legend at 0x1649710d0>"
      ]
     },
     "execution_count": 89,
     "metadata": {},
     "output_type": "execute_result"
    },
    {
     "data": {
      "image/png": "[encoded data removed]",
      "text/plain": [
       "<Figure size 432x288 with 1 Axes>"
      ]
     },
     "metadata": {
      "needs_background": "light"
     },
     "output_type": "display_data"
    }
   ],
   "source": [
    "ax = plt.axes()\n",
    "\n",
    "pos = df_X[df_X.label == 1].iloc[:,[0,1]].plot.scatter(x=0,y=1,ax=ax, color='blue')\n",
    "neg = df_X[df_X.label == -1].iloc[:,[0,1]].plot.scatter(x=0,y=1,ax=ax, color='red')\n",
    "\n",
    "_x = np.array([np.min(X[:1]), np.max(X[:,1])])\n",
    "for k, theta in enumerate(all_theta):\n",
    "    _y = (theta[0] + theta[1] * _x) / (-theta[2])\n",
    "    plt.plot(_x, _y, label='iter {0}'.format(k+1), lw=0.5)\n",
    "plt.legend()"
   ]
  },
  {
   "cell_type": "code",
   "execution_count": null,
   "metadata": {},
   "outputs": [],
   "source": []
  }
 ],
 "metadata": {
  "interpreter": {
   "hash": "9c5aca992622bdafffd50c83212724f2ff5f1641de5b776a9b6f9201383cd611"
  },
  "kernelspec": {
   "display_name": "Python 3.9.7 64-bit ('cenv': conda)",
   "language": "python",
   "name": "python3"
  },
  "language_info": {
   "codemirror_mode": {
    "name": "ipython",
    "version": 3
   },
   "file_extension": ".py",
   "mimetype": "text/x-python",
   "name": "python",
   "nbconvert_exporter": "python",
   "pygments_lexer": "ipython3",
   "version": "3.9.7"
  },
  "orig_nbformat": 4
 },
 "nbformat": 4,
 "nbformat_minor": 2
}
